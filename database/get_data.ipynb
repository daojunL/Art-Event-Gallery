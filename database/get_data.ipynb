{
 "cells": [
  {
   "cell_type": "code",
   "execution_count": 182,
   "metadata": {},
   "outputs": [],
   "source": [
    "all_text = []\n"
   ]
  },
  {
   "cell_type": "code",
   "execution_count": 183,
   "metadata": {},
   "outputs": [],
   "source": [
    "same_name_event = []"
   ]
  },
  {
   "cell_type": "code",
   "execution_count": 184,
   "metadata": {},
   "outputs": [
    {
     "name": "stdout",
     "output_type": "stream",
     "text": [
      "https://app.ticketmaster.com/discovery/v2/events.json?dmaId=324&apikey=urifgNDL2DGaCwxY1R0oBH9wGG9vbxcH&size=200&page=4\n",
      "code 200\n",
      "3\n",
      "dict_keys(['_embedded', '_links', 'page'])\n",
      "200\n",
      "dict_keys(['name', 'type', 'id', 'test', 'url', 'locale', 'images', 'sales', 'dates', 'classifications', 'promoter', 'promoters', 'info', 'pleaseNote', 'priceRanges', 'products', 'seatmap', 'ticketLimit', 'ageRestrictions', '_links', '_embedded'])\n"
     ]
    }
   ],
   "source": [
    "import requests\n",
    "import os\n",
    "\n",
    "apikey ='apikey=urifgNDL2DGaCwxY1R0oBH9wGG9vbxcH'\n",
    "s1 = 200\n",
    "size = 'size='\n",
    "title = 'https://app.ticketmaster.com/discovery/v2/events'\n",
    "l_json = '.json?'\n",
    "# boston 235 new york 345 Los Angeles 324\n",
    "dmaId= 'dmaId=324'\n",
    "# &page=4\n",
    "url_1 = title + l_json + dmaId + '&' + apikey + '&' + size + str(s1) + '&page=4'\n",
    "print(url_1)\n",
    "\n",
    "r_1 = requests.get(url_1)\n",
    "print('code', r_1.status_code)\n",
    "\n",
    "response = r_1.json()\n",
    "print(len(response))\n",
    "print(response.keys())\n",
    "tmp = response['_embedded']\n",
    "\n",
    "events = tmp['events']\n",
    "print(len(events))\n",
    "print(events[0].keys())"
   ]
  },
  {
   "cell_type": "code",
   "execution_count": 148,
   "metadata": {},
   "outputs": [],
   "source": [
    "# a = response['errors']\n",
    "# print(a)"
   ]
  },
  {
   "cell_type": "code",
   "execution_count": 185,
   "metadata": {},
   "outputs": [
    {
     "name": "stdout",
     "output_type": "stream",
     "text": [
      "129\n"
     ]
    }
   ],
   "source": [
    "# refresh 2 list !!!\n",
    "\n",
    "this_dma_event = []\n",
    "count = 0\n",
    "for i_e in events:\n",
    "    count += 1\n",
    "#     print(i_e.keys())\n",
    "\n",
    "    # Art_Event\n",
    "    event_id = i_e['id']\n",
    "    event_title = i_e['name']\n",
    "    if event_title not in same_name_event:\n",
    "        same_name_event.append(event_title)\n",
    "    else:\n",
    "        continue\n",
    "    #   type  event Arts & Theatre\n",
    "    event_type = i_e['type']\n",
    "    subtype = i_e['classifications'][0]['segment']['name']\n",
    "    if subtype in ['Music', 'Arts & Theatre']:\n",
    "        event_subtype = subtype\n",
    "    else:\n",
    "        continue\n",
    "        \n",
    "    if 'seatmap' in i_e.keys():\n",
    "        seatmap = i_e['seatmap']['staticUrl']\n",
    "#         print(seatmap)\n",
    "    else:\n",
    "        continue\n",
    "#     print('type', event_type, event_subtype)  \n",
    "    for j in i_e['images']:\n",
    "#         'width': 640, 'height': 427,\n",
    "        if j['width']==640 and j['height']==427:\n",
    "            event_image_url = j['url']\n",
    "            break\n",
    "\n",
    "    # Time\n",
    "    time_serial = 'lz' + str(count) + '-' + event_id\n",
    "    event_time = i_e['dates']['start']['localDate']\n",
    "    \n",
    "    # location\n",
    "    location_id = i_e['_embedded']['venues'][0]['id']+'-'+ str(count)\n",
    "    l_longtitude = i_e['_embedded']['venues'][0]['location']['longitude']\n",
    "    l_latitude = i_e['_embedded']['venues'][0]['location']['latitude']\n",
    "    # state city street\n",
    "    if ',' in i_e['_embedded']['venues'][0]['address']['line1']:\n",
    "        l_address = i_e['_embedded']['venues'][0]['state']['name']  + '/' + i_e['_embedded']['venues'][0]['city']['name'] + '/' + i_e['_embedded']['venues'][0]['address']['line1'].split(',')[0] + '/time_zone:' + i_e['_embedded']['venues'][0]['timezone'] \n",
    "    else:\n",
    "        l_address = i_e['_embedded']['venues'][0]['state']['name']  + '/' + i_e['_embedded']['venues'][0]['city']['name'] + '/' + i_e['_embedded']['venues'][0]['address']['line1'] + '/time_zone:' + i_e['_embedded']['venues'][0]['timezone'] \n",
    "    zipcode = i_e['_embedded']['venues'][0]['postalCode']\n",
    "\n",
    "    \n",
    "    # Artist\n",
    "    if 'attractions' in i_e['_embedded'].keys():\n",
    "#         print(i_e['_embedded']['attractions'][0].keys())   \n",
    "        artist_id = i_e['_embedded']['attractions'][0]['id'] + 'la' + str(count)\n",
    "        artist_name = i_e['_embedded']['attractions'][0]['name']\n",
    "        if 'externalLinks' in i_e['_embedded']['attractions'][0].keys(): \n",
    "            dic = []\n",
    "#             print(i_e['_embedded']['attractions'][0]['externalLinks'].keys())\n",
    "            dic.extend(i_e['_embedded']['attractions'][0]['externalLinks'].keys())\n",
    "#             print(dic)\n",
    "#             print(i_e['_embedded']['attractions'][0]['externalLinks'][dic[0]][0]['url'])\n",
    "            if 'url' in i_e['_embedded']['attractions'][0]['externalLinks'][dic[0]][0].keys():\n",
    "                artist_info = i_e['_embedded']['attractions'][0]['externalLinks'][dic[0]][0]['url']\n",
    "            else:\n",
    "                artist_info = i_e['_embedded']['attractions'][0]['externalLinks'][dic[0]][0]\n",
    "    #         artist_info = i_e['_embedded']['attractions'][0]['externalLinks']['wiki'][0]['url'] + ',' + i_e['_embedded']['attractions'][0]['externalLinks']['facebook'][0]['url']\n",
    "#         artist_info = i_e['_embedded']['attractions'][0]['externalLinks']['facebook'][0]['url']\n",
    "        else:\n",
    "            artist_info = 'Let google for it together'\n",
    "    else:\n",
    "        continue\n",
    "\n",
    "        \n",
    "    # Ticket_has\n",
    "    Tid = 'T' + str(count) + '-' + event_id\n",
    "    if 'priceRanges' in i_e.keys():\n",
    "        price = i_e['priceRanges'][0]['min']\n",
    "    else:\n",
    "        price = '100'\n",
    "    amount = zipcode\n",
    "    refund_policy = 'yes'\n",
    "#     print(i_e['sales'])\n",
    "    \n",
    "\n",
    "    if 'genre' in i_e['classifications'][0].keys():    \n",
    "        e_genre = 'genre:' + i_e['classifications'][0]['genre']['name'] + '|subgenre:' + i_e['classifications'][0]['subGenre']['name']\n",
    "    else:\n",
    "        continue\n",
    "#     print(e_genre)\n",
    "\n",
    "\n",
    "    data = {'Eid': event_id, 'title': event_title, 'e_image': event_image_url, 'seatmap': seatmap, 'Aid': artist_id, \n",
    "            'artist_name': artist_name, 'info': artist_info, 'Lid': location_id, 'longitude': l_longtitude,\n",
    "            'latitude': l_latitude, 'address': l_address, 'zipcode': zipcode, 'Tid': Tid, 'price': price, \n",
    "            'amount': amount, 'refund_policy': refund_policy, 'time_serial': time_serial, \n",
    "            'date_YMD': event_time, 'genre': e_genre, 'event_type': event_subtype}\n",
    "#     print(data)\n",
    "    this_dma_event.append(data)\n",
    "    \n",
    "all_text.extend(this_dma_event)\n",
    "print(len(all_text))"
   ]
  },
  {
   "cell_type": "code",
   "execution_count": 186,
   "metadata": {},
   "outputs": [
    {
     "name": "stdout",
     "output_type": "stream",
     "text": [
      "{'Eid': 'vv16aZAr6AaZA86Fee', 'title': '89.9 KCRW Presents The Flaming Lips', 'e_image': 'https://s1.ticketm.net/dam/a/94b/3a6818c2-17bf-47e7-b6b4-76ed6d2be94b_780911_RETINA_PORTRAIT_3_2.jpg', 'seatmap': 'https://maps.ticketmaster.com/maps/geometry/3/event/09005787149F6711/staticImage?type=png&systemId=HOST', 'Aid': 'K8vZ91716g7la1', 'artist_name': 'The Flaming Lips', 'info': 'https://www.youtube.com/user/flaminglips', 'Lid': 'KovZpZAEAl6A-1', 'longitude': '-118.30879207', 'latitude': '34.06141494', 'address': 'California/Los Angeles/3790 Wilshire Blvd./time_zone:America/Los_Angeles', 'zipcode': '90010', 'Tid': 'T1-vv16aZAr6AaZA86Fee', 'price': 47.5, 'amount': '90010', 'refund_policy': 'yes', 'time_serial': 'lz1-vv16aZAr6AaZA86Fee', 'date_YMD': '2020-06-17', 'genre': 'genre:Rock|subgenre:Alternative Rock', 'event_type': 'Music'}\n"
     ]
    }
   ],
   "source": [
    "print(all_text[0])"
   ]
  },
  {
   "cell_type": "code",
   "execution_count": 187,
   "metadata": {},
   "outputs": [],
   "source": [
    "import json\n",
    "# los_data\n",
    "jsonfile = open('/Users/yby/Documents/2020spring/542project/los/la_data.json','a')\n",
    "json.dump(all_text, jsonfile,ensure_ascii=False)\n",
    "jsonfile.close()"
   ]
  },
  {
   "cell_type": "code",
   "execution_count": 188,
   "metadata": {},
   "outputs": [],
   "source": [
    "link = '/Users/yby/Documents/2020spring/542project/los/'"
   ]
  },
  {
   "cell_type": "code",
   "execution_count": 189,
   "metadata": {},
   "outputs": [],
   "source": [
    "import json\n",
    "import re\n",
    "\n",
    "def first_process(text):\n",
    "    return ' '.join(re.sub(\"(@[A-Za-z0-9]+)|([^0-9A-Za-z \\t])|(\\w+:\\/\\/\\S+)\", \" \", text).split()) "
   ]
  },
  {
   "cell_type": "code",
   "execution_count": 190,
   "metadata": {},
   "outputs": [],
   "source": [
    "event_type_list = ['Music', 'Arts & Theatre' ]\n",
    "# with open('test.csv', 'a') as w:\n",
    "with open(link + 'art_event.csv', 'a') as w:\n",
    "    with open(link + 'la_data.json','r',encoding='utf-8') as r:\n",
    "#     with open('Los_Angeles.json','r',encoding='utf-8') as r:\n",
    "        s = json.load(r)\n",
    "        first_line = 'Eid,title,e_image,seatmap' + '\\n'\n",
    "        w.write(first_line)\n",
    "        for i in s:\n",
    "            if i['event_type'] in event_type_list:\n",
    "                t_text = first_process(i['title'])\n",
    "#             for words in t_text.split(' '):\n",
    "#                 event_name_1 = \n",
    "#             line = i['Eid'] + ',' + i['title'] + ',' + i['e_image'] + '\\n'\n",
    "                line = i['Eid'] + ',' + t_text + ',' + i['e_image'] + ',' + i['seatmap'] + '\\n'\n",
    "#             print(len(i['e_image']))\n",
    "                w.write(line)"
   ]
  },
  {
   "cell_type": "code",
   "execution_count": 191,
   "metadata": {},
   "outputs": [],
   "source": [
    "with open(link + 'location.csv', 'a') as w:\n",
    "    with open(link + 'la_data.json','r',encoding='utf-8') as r:\n",
    "        s = json.load(r)\n",
    "        first_line = 'Lid,longitude,latitude,address,zipcode' + '\\n'\n",
    "        w.write(first_line)\n",
    "        for i in s:\n",
    "            t_text = first_process(i['title'])\n",
    "            line = i['Lid'] + ',' + i['longitude'] + ',' + i['latitude'] + ',' + i['address'] + ',' + i['zipcode'] + '\\n'\n",
    "            w.write(line)"
   ]
  },
  {
   "cell_type": "code",
   "execution_count": 192,
   "metadata": {},
   "outputs": [],
   "source": [
    "with open(link + 'held.csv', 'a') as w:\n",
    "    with open(link + 'la_data.json','r',encoding='utf-8') as r:\n",
    "        s = json.load(r)\n",
    "        first_line = 'Eid,Lid' + '\\n'\n",
    "        w.write(first_line)\n",
    "        for i in s:\n",
    "#             t_text = first_process(i['title'])\n",
    "            line = i['Eid'] + ',' + i['Lid'] + '\\n'\n",
    "            w.write(line)"
   ]
  },
  {
   "cell_type": "code",
   "execution_count": 193,
   "metadata": {},
   "outputs": [],
   "source": [
    "with open(link + 'time.csv', 'a') as w:\n",
    "    with open(link + 'la_data.json','r',encoding='utf-8') as r:\n",
    "        s = json.load(r)\n",
    "        first_line = 'time_serial,date_YMD' + '\\n'\n",
    "        w.write(first_line)\n",
    "        for i in s:\n",
    "#             t_text = first_process(i['title'])\n",
    "            line = i['time_serial'] + ',' + i['date_YMD'] + '\\n'\n",
    "            w.write(line)"
   ]
  },
  {
   "cell_type": "code",
   "execution_count": 194,
   "metadata": {},
   "outputs": [],
   "source": [
    "with open(link + 'T_on.csv', 'a') as w:\n",
    "    with open(link + 'la_data.json','r',encoding='utf-8') as r:\n",
    "        s = json.load(r)\n",
    "        first_line = 'Eid,time_serial' + '\\n'\n",
    "        w.write(first_line)\n",
    "        for i in s:\n",
    "#             t_text = first_process(i['title'])\n",
    "            line = i['Eid'] + ',' + i['time_serial'] + '\\n'\n",
    "            w.write(line)"
   ]
  },
  {
   "cell_type": "code",
   "execution_count": 195,
   "metadata": {},
   "outputs": [],
   "source": [
    "\n",
    "with open(link + 'Ticket_has.csv', 'a') as w:\n",
    "    with open(link + 'la_data.json','r',encoding='utf-8') as r:\n",
    "        s = json.load(r)\n",
    "        first_line = 'Tid,Eid,price,amount,refund_policy' + '\\n'\n",
    "        w.write(first_line)\n",
    "        for i in s:\n",
    "#             t_text = first_process(i['title'])\n",
    "            line = i['Tid'] + ',' + i['Eid'] + ',' + str(i['price']) + ',' + str(i['amount']) + ',' + i['refund_policy'] + '\\n'\n",
    "            w.write(line)"
   ]
  },
  {
   "cell_type": "code",
   "execution_count": 196,
   "metadata": {},
   "outputs": [],
   "source": [
    "event_type_list = ['Music']\n",
    "\n",
    "with open(link + 'concert.csv', 'a') as w:\n",
    "    with open(link + 'la_data.json','r',encoding='utf-8') as r:\n",
    "        s = json.load(r)\n",
    "        first_line = 'Eid,concert_type' + '\\n'\n",
    "        w.write(first_line)\n",
    "        for i in s:\n",
    "            if i['event_type'] in event_type_list:\n",
    "                line = i['Eid'] + ',' + i['genre'] + '\\n'\n",
    "                w.write(line)"
   ]
  },
  {
   "cell_type": "code",
   "execution_count": 197,
   "metadata": {},
   "outputs": [],
   "source": [
    "event_type_list = ['Arts & Theatre']\n",
    "\n",
    "with open(link + 'Theater.csv', 'a') as w:\n",
    "    with open(link + 'la_data.json','r',encoding='utf-8') as r:\n",
    "        s = json.load(r)\n",
    "        first_line = 'Eid,genre' + '\\n'\n",
    "        w.write(first_line)\n",
    "        for i in s:\n",
    "            if i['event_type'] in event_type_list:\n",
    "                line = i['Eid'] + ',' + i['genre'] + '\\n'\n",
    "                w.write(line)"
   ]
  },
  {
   "cell_type": "code",
   "execution_count": 198,
   "metadata": {},
   "outputs": [],
   "source": [
    "same_a = []\n",
    "with open(link + 'Artist.csv', 'a') as w:\n",
    "    with open(link + 'la_data.json','r',encoding='utf-8') as r:\n",
    "        s = json.load(r)\n",
    "        first_line = 'Aid,artist_name,info' + '\\n'\n",
    "        w.write(first_line)\n",
    "        for i in s:\n",
    "            if i['Aid'] not in same_a:\n",
    "                same_a.append(i['Aid'])\n",
    "#             t_text = first_process(i['title'])\n",
    "                line = i['Aid'] + ',' + i['artist_name'] + ',' + str(i['info'])  + '\\n'\n",
    "                w.write(line)\n",
    "            else:\n",
    "                continue"
   ]
  },
  {
   "cell_type": "code",
   "execution_count": 199,
   "metadata": {},
   "outputs": [],
   "source": [
    "same_a = []\n",
    "with open(link + 'Perform.csv', 'a') as w:\n",
    "    with open(link + 'la_data.json','r',encoding='utf-8') as r:\n",
    "        s = json.load(r)\n",
    "        first_line = 'Eid,Aid' + '\\n'\n",
    "        w.write(first_line)\n",
    "        for i in s:\n",
    "            if i['Aid'] not in same_a:\n",
    "                same_a.append(i['Aid'])\n",
    "                line = i['Eid'] + ',' + i['Aid'] + '\\n'\n",
    "                w.write(line)\n",
    "            else:\n",
    "                continue"
   ]
  },
  {
   "cell_type": "code",
   "execution_count": 87,
   "metadata": {},
   "outputs": [],
   "source": []
  },
  {
   "cell_type": "code",
   "execution_count": 139,
   "metadata": {},
   "outputs": [],
   "source": [
    "s = []\n",
    "with open('/Users/yby/Documents/2020spring/542project/los/Artist.csv','r',encoding='utf-8') as r2:\n",
    "    for i in r2:\n",
    "        s.append(i)\n",
    "s1=[]\n",
    "with open('/Users/yby/Documents/2020spring/542project/bos/Artist.csv','r',encoding='utf-8') as r3:\n",
    "    for j in r3:\n",
    "        s1.append(j)\n",
    "        \n",
    "s2=[]\n",
    "with open('/Users/yby/Documents/2020spring/542project/ny/new_artist.csv','r',encoding='utf-8') as r4:\n",
    "    for k in r4:\n",
    "        s2.append(k)\n"
   ]
  },
  {
   "cell_type": "code",
   "execution_count": 141,
   "metadata": {},
   "outputs": [],
   "source": [
    "ret1 = list(set(s1).difference(set(s)))\n"
   ]
  },
  {
   "cell_type": "code",
   "execution_count": 142,
   "metadata": {},
   "outputs": [],
   "source": [
    " ret2 = list(set(ret1).difference(set(s2)))"
   ]
  },
  {
   "cell_type": "code",
   "execution_count": 144,
   "metadata": {},
   "outputs": [],
   "source": [
    "with open('/Users/yby/Documents/2020spring/542project/bos/new_artist.csv','a',encoding='utf-8') as w:\n",
    "        first_line = 'Aid,artist_name,info' + '\\n'\n",
    "        w.write(first_line)\n",
    "        for i in ret2:\n",
    "            w.write(i)"
   ]
  },
  {
   "cell_type": "code",
   "execution_count": null,
   "metadata": {},
   "outputs": [],
   "source": []
  }
 ],
 "metadata": {
  "kernelspec": {
   "display_name": "Python 3",
   "language": "python",
   "name": "python3"
  },
  "language_info": {
   "codemirror_mode": {
    "name": "ipython",
    "version": 3
   },
   "file_extension": ".py",
   "mimetype": "text/x-python",
   "name": "python",
   "nbconvert_exporter": "python",
   "pygments_lexer": "ipython3",
   "version": "3.7.7"
  }
 },
 "nbformat": 4,
 "nbformat_minor": 4
}
